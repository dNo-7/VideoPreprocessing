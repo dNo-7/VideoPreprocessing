{
 "cells": [
  {
   "cell_type": "code",
   "execution_count": 1,
   "metadata": {},
   "outputs": [
    {
     "name": "stdout",
     "output_type": "stream",
     "text": [
      "Collecting subprocess.run\n",
      "  Downloading subprocess.run-0.0.8.tar.gz (4.1 kB)\n",
      "  Preparing metadata (setup.py): started\n",
      "  Preparing metadata (setup.py): finished with status 'done'\n",
      "Building wheels for collected packages: subprocess.run\n",
      "  Building wheel for subprocess.run (setup.py): started\n",
      "  Building wheel for subprocess.run (setup.py): finished with status 'done'\n",
      "  Created wheel for subprocess.run: filename=subprocess.run-0.0.8-py3-none-any.whl size=5375 sha256=270df00929de0a70f8a8586207b807b149274bd3cae3443ec175638ee11dbea8\n",
      "  Stored in directory: c:\\users\\dinon\\appdata\\local\\pip\\cache\\wheels\\4a\\bb\\1f\\6aa8c10e4be30601bb1e1372f8be5952e0c92ece9dbcd02c77\n",
      "Successfully built subprocess.run\n",
      "Installing collected packages: subprocess.run\n",
      "Successfully installed subprocess.run-0.0.8\n",
      "Note: you may need to restart the kernel to use updated packages.\n"
     ]
    },
    {
     "name": "stderr",
     "output_type": "stream",
     "text": [
      "\n",
      "[notice] A new release of pip is available: 23.2.1 -> 24.3.1\n",
      "[notice] To update, run: python.exe -m pip install --upgrade pip\n"
     ]
    }
   ],
   "source": [
    "pip install subprocess.run\n"
   ]
  },
  {
   "cell_type": "code",
   "execution_count": null,
   "metadata": {},
   "outputs": [],
   "source": [
    "import os\n",
    "import subprocess\n"
   ]
  },
  {
   "cell_type": "code",
   "execution_count": null,
   "metadata": {},
   "outputs": [],
   "source": [
    "# Input folder containing video files\n",
    "video_folder = \"C:/Users/dinon/OneDrive - INTOICT/Recordings_Videos/Mid Week Meetings\""
   ]
  },
  {
   "cell_type": "code",
   "execution_count": null,
   "metadata": {},
   "outputs": [],
   "source": [
    "# Output folder to save processed audio files\n",
    "output_folder = \"C:/Users/dinon/OneDrive - INTOICT/Recordings_Videos/Test_Audio2\"\n"
   ]
  },
  {
   "cell_type": "code",
   "execution_count": 7,
   "metadata": {},
   "outputs": [
    {
     "name": "stdout",
     "output_type": "stream",
     "text": [
      "Processing: Mid of the week Review Meeting-20240710_201139-Meeting Recording.mp4\n",
      "Audio saved as: C:/Users/dinon/OneDrive - INTOICT/Recordings_Videos/Test_Audio2\\Mid of the week Review Meeting-20240710_201139-Meeting Recording_unmuted_audio.mp3\n",
      "Processing: Mid-Week-20241030_203306-Meeting Recording.mp4\n",
      "Audio saved as: C:/Users/dinon/OneDrive - INTOICT/Recordings_Videos/Test_Audio2\\Mid-Week-20241030_203306-Meeting Recording_unmuted_audio.mp3\n",
      "Processing: Mid-Week-20241106_203042-Meeting Recording.mp4\n",
      "Audio saved as: C:/Users/dinon/OneDrive - INTOICT/Recordings_Videos/Test_Audio2\\Mid-Week-20241106_203042-Meeting Recording_unmuted_audio.mp3\n",
      "Processing: Mid-Week-20241113_203327-Meeting Recording.mp4\n",
      "Audio saved as: C:/Users/dinon/OneDrive - INTOICT/Recordings_Videos/Test_Audio2\\Mid-Week-20241113_203327-Meeting Recording_unmuted_audio.mp3\n",
      "Audio extraction complete!\n"
     ]
    }
   ],
   "source": [
    "# Ensure output folder exists\n",
    "os.makedirs(output_folder, exist_ok=True)\n",
    "\n",
    "# Loop through all files in the video folder\n",
    "for video_file in os.listdir(video_folder):\n",
    "    if video_file.endswith(\".mp4\"):  # Adjust extension if needed\n",
    "        input_path = os.path.join(video_folder, video_file)\n",
    "        output_file = f\"{os.path.splitext(video_file)[0]}_unmuted_audio.mp3\"\n",
    "        output_path = os.path.join(output_folder, output_file)\n",
    "\n",
    "        # Run FFmpeg command to remove silent audio and extract unmuted audio\n",
    "        ffmpeg_command = [\n",
    "            \"ffmpeg\",\n",
    "            \"-i\", input_path,                     # Input video file\n",
    "            \"-af\", \"silenceremove=start_periods=1:start_duration=0.5:start_threshold=-30dB\",  # Silence removal filter\n",
    "            output_path                           # Output audio file\n",
    "        ]\n",
    "\n",
    "        print(f\"Processing: {video_file}\")\n",
    "        try:\n",
    "            subprocess.run(ffmpeg_command, check=True)\n",
    "            print(f\"Audio saved as: {output_path}\")\n",
    "        except subprocess.CalledProcessError as e:\n",
    "            print(f\"Error processing {video_file}: {e}\")\n",
    "\n",
    "print(\"Audio extraction complete!\")"
   ]
  }
 ],
 "metadata": {
  "kernelspec": {
   "display_name": "Python 3",
   "language": "python",
   "name": "python3"
  },
  "language_info": {
   "codemirror_mode": {
    "name": "ipython",
    "version": 3
   },
   "file_extension": ".py",
   "mimetype": "text/x-python",
   "name": "python",
   "nbconvert_exporter": "python",
   "pygments_lexer": "ipython3",
   "version": "3.12.1"
  }
 },
 "nbformat": 4,
 "nbformat_minor": 2
}
